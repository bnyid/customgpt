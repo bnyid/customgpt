{
 "cells": [
  {
   "cell_type": "code",
   "execution_count": 1,
   "metadata": {},
   "outputs": [],
   "source": [
    "import openai\n",
    "from openai import OpenAI\n",
    "from main import my_api_key\n",
    "from model_manager import select_model\n",
    "from prompt_manager import prompt_manager\n",
    "client = OpenAI(api_key=my_api_key)\n",
    "model_to_use_id = select_model(client)"
   ]
  },
  {
   "cell_type": "code",
   "execution_count": 2,
   "metadata": {},
   "outputs": [],
   "source": [
    "system_prompt = prompt_manager()"
   ]
  },
  {
   "cell_type": "code",
   "execution_count": 3,
   "metadata": {},
   "outputs": [],
   "source": [
    "import tkinter as tk\n",
    "\n",
    "def send_query():\n",
    "    user_input = text_entry.get(\"1.0\", tk.END).strip()  # 텍스트 입력창의 내용을 가져옴\n",
    "    if user_input:\n",
    "        response = client.chat.completions.create(\n",
    "            model=model_to_use_id,\n",
    "            messages=[\n",
    "                {\"role\": \"system\", \"content\": system_prompt},\n",
    "                {\"role\": \"user\", \"content\": user_input}\n",
    "            ]\n",
    "        )\n",
    "        output_text = response.choices[0].message.content\n",
    "        result_text.config(state=tk.NORMAL)  # 텍스트 위젯을 편집 가능 상태로 전환\n",
    "        result_text.delete(\"1.0\", tk.END)  # 기존 텍스트 삭제\n",
    "        result_text.insert(tk.END, output_text)  # 결과 텍스트 삽입\n",
    "        result_text.config(state=tk.DISABLED)  # 다시 텍스트 위젯을 비활성화\n"
   ]
  },
  {
   "cell_type": "code",
   "execution_count": 4,
   "metadata": {},
   "outputs": [],
   "source": [
    "def paste_clipboard(event=None):\n",
    "    text_entry.insert(tk.INSERT, root.clipboard_get())"
   ]
  },
  {
   "cell_type": "code",
   "execution_count": 6,
   "metadata": {},
   "outputs": [],
   "source": [
    "\n",
    "root = tk.Tk()\n",
    "root.title(\"GPT Fine_Tuned Model Interaction\")\n",
    "\n",
    "text_entry = tk.Text(root, height=10, width=50)\n",
    "text_entry.pack()\n",
    "text_entry.bind(\"<Command-v>\", paste_clipboard)  # Mac의 경우\n",
    "\n",
    "send_button = tk.Button(root, text=\"Send\", command=send_query)\n",
    "send_button.pack()\n",
    "\n",
    "# 결과 출력 텍스트 위젯 (복사 가능하도록)\n",
    "result_text = tk.Text(root, height=10, width=50, wrap=tk.WORD)\n",
    "result_text.pack()\n",
    "result_text.config(state=tk.DISABLED)  # 처음에는 비활성화하여 편집 불가 상태로 설정\n",
    "\n",
    "\n",
    "root.mainloop()\n"
   ]
  },
  {
   "cell_type": "code",
   "execution_count": null,
   "metadata": {},
   "outputs": [],
   "source": []
  }
 ],
 "metadata": {
  "kernelspec": {
   "display_name": "llm2",
   "language": "python",
   "name": "python3"
  },
  "language_info": {
   "codemirror_mode": {
    "name": "ipython",
    "version": 3
   },
   "file_extension": ".py",
   "mimetype": "text/x-python",
   "name": "python",
   "nbconvert_exporter": "python",
   "pygments_lexer": "ipython3",
   "version": "3.11.9"
  }
 },
 "nbformat": 4,
 "nbformat_minor": 2
}
